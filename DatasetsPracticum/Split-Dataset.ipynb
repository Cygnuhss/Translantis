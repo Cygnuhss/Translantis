{
 "cells": [
  {
   "cell_type": "markdown",
   "metadata": {},
   "source": [
    "## Idea behind splitting the data"
   ]
  },
  {
   "cell_type": "markdown",
   "metadata": {},
   "source": [
    "There is one big text file containing 200 documents.\n",
    "\n",
    "All these documents contain (at the very least):\n",
    "* title\n",
    "* publish date\n",
    "* body\n",
    "* document delimiter\n",
    "* some garbage text such as hyperlinks\n",
    "\n",
    "First split the large file into 200 individual documents based on the delimiter.<br>\n",
    "Preprocess and remove most of the garbage text.<br>\n",
    "Save the individual documents.<br>\n",
    "\n",
    "Aggregate the documents by year:\n",
    "* find title\n",
    "* find body\n",
    "* find publish date\n",
    "\n",
    "Create a file for each year of the publish dates.\n",
    "Add to these files:\n",
    "* document title\n",
    "* document body<br>\n",
    "only if the publish date's year matches the filename.\n",
    "\n",
    "\n",
    "*You can skip the code below (but do run it for initialisation purposes).*"
   ]
  },
  {
   "cell_type": "code",
   "execution_count": 31,
   "metadata": {
    "collapsed": false
   },
   "outputs": [],
   "source": [
    "# Some initialisation code.\n",
    "\n",
    "# Load necessary modules.\n",
    "import os\n",
    "import sys\n",
    "import re\n",
    "\n",
    "# Set the folder in which individual files will be stored.\n",
    "DOCUMENTS_FOLDER = \"./documents\"\n",
    "\n",
    "\n",
    "class Date:\n",
    "    def __init__(self, day, month, year):\n",
    "        self.day = day\n",
    "        self.month = month\n",
    "        self.year = year\n",
    "\n",
    "    def __repr__(self):\n",
    "        return \"{} {} {}\".format(self.day, self.month, self.year)\n",
    "\n",
    "    def isValid(self):\n",
    "        return self.day != -1 and self.month != -1 and self.year != -1\n",
    "\n",
    "def createDate(dateString):\n",
    "    \"\"\"A dateString is of the following format:\n",
    "        dd month yyyy\n",
    "    Return a Date that has a selectable day, month and year.\n",
    "    \"\"\"\n",
    "    try:\n",
    "        dateString = dateString.replace(\",\", \"\")\n",
    "        dateStringSplit = dateString.split(\" \")\n",
    "        if dateStringSplit[0].isdigit():\n",
    "            day = dateStringSplit[0]\n",
    "            month = dateStringSplit[1]\n",
    "        else:\n",
    "            day = dateStringSplit[1]\n",
    "            month = dateStringSplit[0]\n",
    "        year = dateStringSplit[2]\n",
    "        return Date(day, month, year)\n",
    "    except IndexError:\n",
    "        return Date(-1, -1, -1)\n",
    "    \n",
    "    \n",
    "class Document:\n",
    "    def __init__(self, title, date, body):\n",
    "        self.title = title\n",
    "        self.date = date\n",
    "        self.body = body\n",
    "\n",
    "    def __repr__(self):\n",
    "        MAX_LENGTH = 100\n",
    "        body = self.body if len(self.body) < MAX_LENGTH else self.body[:MAX_LENGTH]\n",
    "        return \"{}, {}: {}\".format(self.title, self.date, body)"
   ]
  },
  {
   "cell_type": "markdown",
   "metadata": {},
   "source": [
    "**The interesting code starts below.**"
   ]
  },
  {
   "cell_type": "markdown",
   "metadata": {},
   "source": [
    "## Split dataset in individual documents"
   ]
  },
  {
   "cell_type": "code",
   "execution_count": 32,
   "metadata": {
    "collapsed": false
   },
   "outputs": [
    {
     "name": "stdout",
     "output_type": "stream",
     "text": [
      "First 500 characters of the data:\n",
      "ï»¿\n",
      "                               1 of 200 DOCUMENTS\n",
      "\n",
      "                                   Het Parool\n",
      "\n",
      "                               December 30, 1995\n",
      "\n",
      "Ex-vrouw Carlos wil getuigen in proces\n",
      "\n",
      "SECTION: Pg. 7\n",
      "\n",
      "LENGTH: 333 words\n",
      "\n",
      "\n",
      "FRANKFURT - De ex-vrouw van de beruchte terrorist Ilich Sanchez of 'Carlos de\n",
      "Jakhals', de Duitse Magdalena Kopp, zou bereid zijn tegen haar voormalige\n",
      "echtgenoot te getuigen in het proces dat wordt voorbereid in Frankrijk. Kopp,\n",
      "die ervan wordt verdacht dat zij jarenlang\n"
     ]
    }
   ],
   "source": [
    "# Read the downloaded dataset file and store in variable 'lines'.\n",
    "lines = []\n",
    "with open('dataset3.txt', 'r') as f:\n",
    "    lines = f.read()\n",
    "    \n",
    "print(\"First 500 characters of the data:\\n{}\".format(lines[:500]))"
   ]
  },
  {
   "cell_type": "code",
   "execution_count": 33,
   "metadata": {
    "collapsed": true
   },
   "outputs": [],
   "source": [
    "# newDocumentExpression matches text of the form: \"123 of 200 DOCUMENTS\".\n",
    "# \\d matches digits [0-9].\n",
    "# For more regular expressions, see RegularExpressions-Example.ipynb\n",
    "newDocumentExpression = r\"\\b\\d+\\b of \\b\\d+\\b DOCUMENTS\""
   ]
  },
  {
   "cell_type": "code",
   "execution_count": 34,
   "metadata": {
    "collapsed": false
   },
   "outputs": [],
   "source": [
    "# Split the document in several documents based on the newDocumentExpression.\n",
    "# Skip the first element (index 0) as it contains all text BEFORE the first document.\n",
    "# Example:\n",
    "#     Text before Article\n",
    "#     1 of 200 DOCUMENTS\n",
    "#     Title of Article\n",
    "#     Body of Article\n",
    "documents = re.split(newDocumentExpression, lines)[1:]"
   ]
  },
  {
   "cell_type": "code",
   "execution_count": 35,
   "metadata": {
    "collapsed": false
   },
   "outputs": [
    {
     "name": "stdout",
     "output_type": "stream",
     "text": [
      "The amount of documents found is: 200\n"
     ]
    }
   ],
   "source": [
    "# Check if all documents are found.\n",
    "# The length (amount) of list of documents should equal the amount of documents.\n",
    "print(\"The amount of documents found is: {}\".format(len(documents)))"
   ]
  },
  {
   "cell_type": "markdown",
   "metadata": {},
   "source": [
    "### Preprocess and remove garbage text"
   ]
  },
  {
   "cell_type": "code",
   "execution_count": 36,
   "metadata": {
    "collapsed": true
   },
   "outputs": [],
   "source": [
    "# Remove the leading/trailing whitespace from the documents.\n",
    "documents = [document.strip() for document in documents]"
   ]
  },
  {
   "cell_type": "code",
   "execution_count": 37,
   "metadata": {
    "collapsed": false
   },
   "outputs": [],
   "source": [
    "# Remove all hyperlink-like text from the documents.\n",
    "hyperlinkExpression = r\"https?:\\/\\/(www\\.)?[-a-zA-Z0-9@:%._\\+~#=]{2,256}\\.[a-z]{2,6}\\b(([-a-zA-Z0-9@:%_\\+.~#?&//=]|\\s*-)*)\"\n",
    "documents = [re.sub(hyperlinkExpression, '', document) for document in documents]"
   ]
  },
  {
   "cell_type": "markdown",
   "metadata": {},
   "source": [
    "**Note on the above code**\n",
    "\n",
    "Removes hyperlinks of the form:<br>\n",
    "http://www.standaard.be/cnt/dmf20161129_02597674\n",
    "\n",
    "but also:<br>\n",
    "https://www.rijksoverheid.nl/actueel/nieuws/2016/11/03/minister-president<br>\n",
    "[WHITESPACE]-rutte-verzorgt-de-preek-van-de-leek\n",
    "\n",
    "but only the first line of: (last three lines remain as garbage text)<br>\n",
    "http://www.hln.be/hln/nl/4125/Internet/article/detail/2972254/2016/11/10/<br>\n",
    "[WHITESPACE]President<br>\n",
    "[WHITESPACE]-Trump-mag-twittervolgers-van-POTUS-houden.dhtml?utm_medium=rss&utm_content=ihln<br>\n",
    "[WHITESPACE]ophlnbehetallerlaatstenieuwsoverinternetgames\n",
    "\n",
    "If you can do any better, let me know :)"
   ]
  },
  {
   "cell_type": "code",
   "execution_count": 38,
   "metadata": {
    "collapsed": false
   },
   "outputs": [],
   "source": [
    "def removeTags(document):\n",
    "    forbiddenTags = [\"SECTION\", \"BYLINE\", \"LOAD-DATE\", \"LANGUAGE\", \"PUB-TYPE\", \"DATELINE\"]\n",
    "    documentSplit = document.split('\\n')\n",
    "    documentSplit = list(filter(None, documentSplit))\n",
    "    cleanDocument = [line for line in documentSplit if (not \"SECTION\" in line and not \"BYLINE\" in line and not \"LOAD-DATE\" in line and not \"LANGUAGE\" in line and not \"PUB-TYPE\" in line and not \"DATELINE\" in line)]\n",
    "    cleanDocument = \"\\n\".join(cleanDocument)\n",
    "    return cleanDocument\n",
    "\n",
    "documents = [removeTags(document) for document in documents]"
   ]
  },
  {
   "cell_type": "code",
   "execution_count": null,
   "metadata": {
    "collapsed": true
   },
   "outputs": [],
   "source": [
    "def removeAuthor(document):\n",
    "    documentSplit = document.split('\\n')\n",
    "    documentSplit = list(filter(None, documentSplit))\n",
    "    cleanDocument = [line for line in documentSplit if (not line.startswith(\"Door\") and not line.startswith(\"door\") and not line.startswith(\"By\")not line.startswith(\"Door\"))]\n",
    "    cleanDocument = \"\\n\".join(cleanDocument)\n",
    "    return cleanDocument\n",
    "\n",
    "documents = [removeAuthor(document) for document in documents]"
   ]
  },
  {
   "cell_type": "markdown",
   "metadata": {},
   "source": [
    "### Saving the individual documents"
   ]
  },
  {
   "cell_type": "code",
   "execution_count": 39,
   "metadata": {
    "collapsed": true
   },
   "outputs": [],
   "source": [
    "# Create the folder where individual documents are stored.\n",
    "if not os.path.exists(DOCUMENTS_FOLDER):\n",
    "    os.makedirs(DOCUMENTS_FOLDER)"
   ]
  },
  {
   "cell_type": "code",
   "execution_count": 40,
   "metadata": {
    "collapsed": true
   },
   "outputs": [],
   "source": [
    "# Write the documents to individual files as '[number].txt'\n",
    "for document in documents:\n",
    "    index = documents.index(document) + 1\n",
    "    with open('{}/{}.txt'.format(DOCUMENTS_FOLDER, index), 'w+') as writeFile:\n",
    "        writeFile.write(document)"
   ]
  },
  {
   "cell_type": "markdown",
   "metadata": {},
   "source": [
    "## Aggregating the documents by year"
   ]
  },
  {
   "cell_type": "code",
   "execution_count": 41,
   "metadata": {
    "collapsed": false
   },
   "outputs": [
    {
     "name": "stdout",
     "output_type": "stream",
     "text": [
      "The first five titles are:\n",
      "['Ex-vrouw Carlos wil getuigen in proces', 'Door Ivo Postma', 'Door Ivo Postma', 'Door Ivo Postma', 'man']\n"
     ]
    }
   ],
   "source": [
    "# Extract the titles of the documents.\n",
    "titles = []\n",
    "for document in documents:\n",
    "    documentSplit = document.split('\\n')\n",
    "    documentSplit = list(filter(None, documentSplit))\n",
    "\n",
    "    # Find the part that says 'LENGTH:', because...\n",
    "    lengthItem = next((s for s in documentSplit if 'LENGTH:' in s), None)\n",
    "    lengthIndex = documentSplit.index(lengthItem)\n",
    "    # ...the text is stored in the string one before the one that says 'LENGTH: xxx woorden'\n",
    "    title = documentSplit[lengthIndex-1]\n",
    "    titles.append(title)\n",
    "    \n",
    "print(\"The first five titles are:\\n{}\".format(titles[:5]))"
   ]
  },
  {
   "cell_type": "code",
   "execution_count": 42,
   "metadata": {
    "collapsed": false
   },
   "outputs": [
    {
     "name": "stdout",
     "output_type": "stream",
     "text": [
      "The first five bodies are:\n",
      "[\"FRANKFURT - De ex-vrouw van de beruchte terrorist Ilich Sanchez of 'Carlos de Jakhals', de Duitse Magdalena Kopp, zou bereid zijn tegen haar voormalige echtgenoot te getuigen in het proces dat wordt voorbereid in Frankrijk. Kopp, die ervan wordt verdacht dat zij jarenlang lid was van de terreurgroep Revolutionaire Cellen, is volgens het weekblad Der Spiegel onlangs uit Venezuela teruggekeerd naar haar geboortestad Ulm. Carlos zit al anderhalf jaar in voorarrest in Parijs, nadat hij door de Franse geheime dienst was opgehaald in Soedan, waar hij was gearresteerd nadat alle westerse geheime diensten twintig jaar naar hem op zoek waren geweest. Kopp brak vier jaar geleden met hem. Zij hebben een dochtertje, Rosa, dat bij haar moeder verblijft. Magdalena Kopp is inmiddels in Duitsland verhoord door de politie in verband met een bomaanslag tegen Radio Free Europe in Munchen in 1981. Een woordvoerder van de Duitse justitie wilde geen commentaar geven op de eventuele bereidheid van de vrouw om tegen Carlos en diens jarenlange rechterhand, de Duitser Johannes Weinrich, te getuigen. Weinrich, die in juni van dit jaar in Jemen werd gepakt en aan Duitsland werd uitgeleverd, wordt verdacht van een serie terreuracties. Kopp werd in 1982 in Parijs gearresteerd terwijl zij explosieven vervoerde. Ze kreeg daarvoor drie jaar gevangenisstraf en werd in 1985 naar Duitsland uitgewezen. Kort daarop wist ze het land uit te komen en Damascus te bereiken, waar Carlos in die tijd zou hebben gewoond. Kopp zou hebben aangeboden tegen het tweetal te getuigen toen zij hoorde van Weinrichs uitlevering. Carlos wordt onder meer verdacht van de moord op twee Franse geheim agenten in 1975 in Parijs en een aanslag op een trein in 1983, waarbij twee doden vielen. Weinrich zal zich moeten verantwoorden voor aanslagen in 1975 op de Parijse luchthaven Orly, in 1981 tegen Radio Free Europe in Munchen en in 1983 tegen het Franse culturele centrum in het toenmalige West-Berlijn. (AP)                                Â© 1995 Het Parool\", 'HIGHLIGHT:  Gerespecteerd leider, ook na \\'blunder\\' - Johan Alvarez Manusama, een intellectueel leider, iemand die veel respect genoot. Maar dat respect kreeg ten tijde van de gijzelingen en treinkapingen in de jaren \\'70 een fikse deuk. Toen hij op 11 september 1953 in Nederland aankwam, werd hem weliswaar politiek asiel verleend, maar tevens behandeld als een staatsgevaarlijke terrorist. Het was vier jaar na de souvereiniteitsoverdracht en de Nederlandse regering wilde zich niet meer de vingers branden aan de Molukse kwestie die nu een binnenlandse Indonesische kwestie was. Johan Alvarez Manusama, minister van defensie van de niet erkende Republiek der Zuid-Molukken (RMS), kreeg een spreekverbod opgelegd. De regering dreigde hem met verbanning naar Texel als hij zich daar niet aan zou houden. Van de wijze, minzame en bedaagde Manusama, die hier de kost verdiende als wiskundeleraar, hebben de Nederlandse autoriteiten nooit veel last ondervonden. Ook niet nadat hij in 1966 de door Indonesie geexecuteerde Soumokil was opgevolgd als president in ballingschap. De 26.000 Molukkers die hem in dat jaar in Assen uitriepen tot hun president, moeten verwacht hebben dat deze invriendelijke vaderfiguur in staat was hun ideaal te verwezenlijken. Hijzelf is het mogelijk ook vast van plan geweest. Maar Manusama was tevens een realist. Â\\xa0 Loyaal Manusama heeft altijd zijn best gedaan om behalve strijder voor het Molukse onafhankelijkheidsideaal een loyaal burger van Nederland te zijn. In de reactie van de Nederlandse regering op zijn dood gisteren klonk dan ook een spoor van dankbaarheid door. Van Molukse zijde werd gisteren echter ook gewezen op Manusama\\'s \\'blunders\\' op een cruciaal moment. Het was de tweede generatie - de meestal in Nederland geboren jongere Zuidmolukkers - die de Nederlandse samenleving in de jaren zeventig duidelijk maakte hoe diep het vrijheidsideaal zat en hoe groot de frustraties in de Molukse gemeenschap waren. De gijzelingsacties en de treinkapingen waren gewelddadige gebeurtenissen die de verhoudingen tussen de Molukse gemeenschap en de Nederlandse samenleving op scherp stelden. Maar ze brachten deze verhoudingen ook in beweging en daar was Manusama met zijn geweldloosheid, bedachtzame uitspraken en diplomatieke bewegingen nooit toe in staat geweest. Iets waar hij jarenlang vergeefs om had gevraagd, werd ineens werkelijkheid: een gesprek met de Nederlandse regering. Den Haag luisterde naar wat de president in ballingschap van de niet erkende republiek haar te zeggen had. De vreedzame Manusama van zijn kant was bereid achter de bloedige feiten aan te lopen en in de gewijzigde omstandigheden zijn rol te blijven spelen als leider van een volk dat zich nog steeds in ballingschap voelde. Â\\xa0 Zonder resultaat De episode van de treinkapingen en de gijzelingen was pijnlijk en vernederend geweest voor Manusama. Hij wilde praten met de jongens die in 1975 bij Wijster de intercity van Groningen naar Amsterdam hadden gekaapt. Maar de jongens wilden niet met hem praten. Ze hadden hun geweren op hem gericht toen hij de trein binnenkwam. Er had een moeizaam gesprek plaats zonder resultaat. Later volgde nog een treinkaping, bij De Punt, die samenviel met de gijzeling van een kleuterklas in Bovensmilde. Manusama dacht dat al die acties niet zozeer tegen Nederland als wel tegen hem waren gericht, omdat hij te weinig van Nederland gedaan zou hebben gekregen. In Het Parool verdedigde Manusama zich jaren later nog tegen de beschuldiging dat hij zijn eigen jongens had laten vallen. \"Dat was natuurlijk niet zo. Ik had wel degelijk met ze te doen. Maar die actie keurde ik af.  Terwijl de Molukse gemeenschap de neiging heeft alles wat er ondernomen wordt, goed te praten. Blindelings solidair te zijn, die eigenschap heb ik niet. Die jongens hebben zich opgeofferd op een verkeerde manier.\" Elias Rinsampessy, directeur van de Molukse welzijnsstichting Muhabbat, onderhield destijds nauw contact met de treinkapers en de geradicaliseerde jongeren. Hij noemt het nog steeds een blunder dat Manusama destijds verklaarde: \"Dat zijn mijn jongens niet\". Â\\xa0 Lijnen Rinsampessy spreekt desondanks waardering uit voor de figuur Manusama. Hij vergelijkt hem met \\'de populist\\' dominee Metiary, de voorzitter van de eenheidspartij Badan Persatuan, die hij vanwege zijn bezielende optreden beschouwt als \\'de eigenlijke leider van de Molukse gemeenschap\\'. Manusama is volgens Rinsampessy \"meer een intellectueel leider, een formele persoonlijkheid, niet zozeer een man onder het volk, maar desondanks iemand die veel respect genoot, ook onder de gewone Molukkers. Je kunt het met Manusama oneens zijn, maar hij zette altijd duidelijk de lijnen uit\". Frans Tutuhatunewa, de huisarts die Manusama in 1993 is opgevolgd, zegt met het overlijden van zijn voorganger \\'een vaderfiguur\\' te hebben verloren. \"Hij was mijn raadsman, mijn allereerste adviseur. Ik hoop het heilig inzicht te hebben waarover hij beschikte.\" GRAPHIC: Beilen 1975: aankomst van Manusama per helikopter voor een gesprek met de kapers. Midden op de foto dominee Metiary.  Foto Anefo.                         Copyright 1995 Brabants Dagblad', 'TOEN HIJ op 11 september 1953 in Nederland aankwam, werd hem weliswaar politiek asiel verleend, maar werd hij tevens behandeld als een staatsgevaarlijke terrorist. Het was vier jaar na de souvereiniteitsoverdracht en de Nederlandse regering wilde zich niet meer de vingers branden aan de Molukse kwestie die nu een binnenlandse Indonesische kwestie was. Johan Alvarez Manusama, minister van Defensie van de niet erkende Republiek der Zuid-Molukken (RMS), kreeg een spreekverbod opgelegd. De regering dreigde hem met verbanning naar Texel(!) als hij zich daar niet aan zou houden. Van de wijze, minzame en bedaagde Manusama, die hier de kost verdiende als wiskundeleraar, hebben de Nederlandse autoriteiten nooit veel last ondervonden. Ook niet nadat hij in 1966 de door Indonesie geexecuteerde Soumokil was opgevolgd als president in ballingschap. De 26.000 Molukkers die hem in dat jaar in Assen uitriepen tot hun president, moeten verwacht hebben dat deze invriendelijke vaderfiguur in staat was hun ideaal te verwezenlijken. Hij is het mogelijk zelf ook vast van plan geweest. Maar Manusama was tevens een realist. Het gebruik van geweld was niet zijn manier en hij wist dat hij het niet moest verbruien in Nederland, het land waar hij wilde blijven zolang hij niet terug kon naar Maluku Selatan. Manusama heeft altijd zijn best gedaan om behalve strijder voor het Molukse onafhankelijkheidsideaal een loyaal burger van Nederland te zijn. In de reactie van de Nederlandse regering op zijn dood gisteren klonk dan ook een spoor van dankbaarheid door. Het kabinet betuigde zijn \\'respect voor de wijze waarop de heer Manusama gedurende vele jaren de gevoelens van de Molukse gemeenschap heeft vertolkt\\'. Van Molukse zijde werd gisteren echter ook gewezen op Manusama\\'s \\'blunders\\' op een cruciaal moment. Het was de tweede generatie - de meestal in Nederland geboren jongere Zuidmolukkers - die de Nederlandse samenleving in de jaren zeventig duidelijk maakte hoe diep het vrijheidsideaal zat en hoe groot de frustraties in de Molukse gemeenschap waren. De gijzelingsacties en de treinkapingen waren gewelddadige gebeurtenissen die de verhoudingen tussen de Molukse gemeenschap en de Nederlandse samenleving op scherp stelden. Maar ze brachten deze verhoudingen ook in beweging en daar was Manusama met zijn geweldloosheid, bedachtzame uitspraken en diplomatieke bewegingen nooit toe in staat geweest. Iets waar hij jarenlang vergeefs om had gevraagd, werd ineens werkelijkheid: een gesprek met de Nederlandse regering. Den Haag luisterde naar wat de president in ballingschap van de niet erkende republiek haar te zeggen had. De vreedzame Manusama van zijn kant was bereid achter de bloedige feiten aan te lopen en in de gewijzigde omstandigheden zijn rol te blijven spelen als leider van een volk dat zich nog steeds in ballingschap voelde. De episode van de treinkapingen en de gijzelingen was pijnlijk en vernederend geweest voor Manusama. Hij wilde praten met de jongens die in 1975 bij Wijster de intercity van Groningen naar Amsterdam hadden gekaapt. Maar de jongens wilden niet met hem praten. Ze hadden hun geweren op hem gericht toen hij binnenkwam en er had een moeizaam gesprek plaats zonder resultaat. Later volgde nog een treinkaping, bij De Punt, die samenviel met de gijzeling van een kleuterklas in Bovensmilde. Manusama dacht dat al die acties niet zozeer tegen Nederland als wel tegen hem waren gericht, omdat hij te weinig van Nederland gedaan zou hebben gekregen. In Het Parool verdedigde Manusama zich jaren later nog tegen de beschuldiging dat hij zijn eigen jongens had laten vallen. \"Dat was natuurlijk niet zo. Ik had wel degelijk met ze te doen. Maar die actie keurde ik af.  Terwijl de Molukse gemeenschap de neiging heeft alles wat er ondernomen wordt, goed te praten. Blindelings solidair te zijn, die eigenschap heb ik niet. Die jongens hebben zich opgeofferd op een verkeerde manier.\" Elias Rinsampessy, thans directeur van de Molukse welzijnsstichting Muhabbat, onderhield destijds nauw contact met de treinkapers en de geradicaliseerde Molukse jongeren. Hij noemt het nog steeds een blunder van Manusama dat hij destijds verklaarde: \"Dat zijn mijn jongens niet.\" Rinsampessy spreekt desondanks waardering uit voor de figuur Manusama. Hij vergelijkt hem met \\'de populist\\' dominee Metiary, de voorzitter van de eenheidspartij Badan Persatuan, die hij vanwege zijn bezielende optreden beschouwt als \\'de eigenlijke leider van de Molukse gemeenschap\\'. Manusama is volgens Rinsampessy \\'meer een intellectueel leider, een formele persoonlijkheid, niet zozeer een man onder het volk, maar desondanks iemand die veel respect genoot, ook onder de gewone Molukkers. Je kunt het met Manusama oneens zijn, maar hij zette altijd duidelijk de lijnen uit\\'. Frans Tutuhatunewa, de huisarts die Manusama in 1993 is opgevolgd, zegt met het overlijden van zijn voorganger \\'een vaderfiguur\\' te hebben verloren. \"Hij was mijn raadsman, mijn allereerste adviseur. Ik hoop het heilig inzicht te hebben waarover hij beschikte.\" Tutuhatunewa zei in een interview met De Gelderlander twee jaar geleden: \"Wij Zuidmolukkers kunnen niet anders dan naar de RMS streven. Je weet dat je daar vandaan komt en daar thuishoort. Het is een diep geloof dat in je ziel is gebrand.\" Volgens hem heeft Manusama aan dat besef \"niet een klein steentje, maar een heel grote kei bijgedragen.\"                      Copyright 1995 VNU Dagbladengroep B.V.', 'Toen hij op 11 september 1953 in Nederland aankwam, werd hem weliswaar politiek asiel verleend, maar werd hij tevens behandeld als een staatsgevaarlijke terrorist. Het was vier jaar na de soevereiniteitsoverdracht en de Nederlandse regering wilde haar vingers niet meer branden aan de Molukse kwestie die nu een binnenlandse Indonesische kwestie was. Johan Alvarez Manusama, minister van defensie van de niet erkende Republiek der Zuid-Molukken (RMS), kreeg een spreekverbod opgelegd. De regering dreigde hem met verbanning naar Texel(!) als hij zich daar niet aan zou houden. Van de wijze, minzame en bedaagde Manusama, die hier de kost verdiende als wiskundeleraar, hebben de Nederlandse autoriteiten nooit veel last ondervonden. Ook niet nadat hij in 1966 de door Indonesie geexecuteerde Soumokil was opgevolgd als president in ballingschap. De 26.000 Molukkers die hem in dat jaar in Assen uitriepen tot hun president, moeten verwacht hebben dat deze invriendelijke vaderfiguur in staat was hun ideaal te verwezenlijken. Hijzelf is het mogelijk ook vast van plan geweest. Maar Manusama was tevens een realist. Het gebruik van geweld was niet zijn manier en hij wist dat hij het niet moest verbruien in Nederland, het land waar hij wilde blijven zolang hij niet terug kon naar Maluku Selatan. Manusama heeft altijd zijn best gedaan om behalve strijder voor het Molukse onafhankelijkheidsideaal een loyaal burger van Nederland te zijn. In de reactie van de Nederlandse regering op zijn dood gisteren klonk dan ook een spoor van dankbaarheid door. Het kabinet betuigde zijn \\'respect voor de wijze waarop de heer Manusama gedurende vele jaren de gevoelens van de Molukse gemeenschap heeft vertolkt.\\' Van Molukse zijde werd gisteren echter ook gewezen op Manusama\\'s \\'blunders\\' op een cruciaal moment. Het was de tweede generatie - de meestal in Nederland geboren jongere Zuidmolukkers - die de Nederlandse samenleving in de jaren zeventig duidelijk maakte hoe diep het vrijheidsideaal zat en hoe groot de frustraties in de Molukse gemeenschap waren. De gijzelingsacties en de treinkapingen waren gewelddadige gebeurtenissen die de verhoudingen tussen de Molukse gemeenschap en de Nederlandse samenleving op scherp stelden. Maar ze brachten deze verhoudingen ook in beweging en daar was Manusama met zijn geweldloosheid, bedachtzame uitspraken en diplomatieke bewegingen nooit toe in staat geweest. Iets waar hij jarenlang vergeefs om had gevraagd, werd ineens werkelijkheid: een gesprek met de Nederlandse regering. Den Haag luisterde naar wat de president in ballingschap van de niet erkende republiek haar te zeggen had. De vreedzame Manusama van zijn kant was bereid achter de bloedige feiten aan te lopen en in de gewijzigde omstandigheden zijn rol te blijven spelen als leider van een volk dat zich nog steeds in ballingschap voelde. De episode van de treinkapingen en de gijzelingen was pijnlijk en vernederend geweest voor Manusama. Hij wilde praten met de jongens die in 1975 bij Wijster de Intercity van Groningen naar Amsterdam hadden gekaapt. Maar de jongens wilden niet met hem praten. Ze hadden hun geweren op hem gericht toen hij binnenkwam en er had een moeizaam gesprek plaats zonder resultaat. Later volgde nog een treinkaping, bij De Punt, die samenviel met de gijzeling van een kleuterklas in Bovensmilde. Manusama dacht dat al die acties niet zozeer tegen Nederland als wel tegen hem waren gericht, omdat hij te weinig van Nederland gedaan zou hebben gekregen. In Het Parool verdedigde Manusama zich jaren later nog tegen de beschuldiging dat hij zijn eigen jongens had laten vallen. \"Dat was natuurlijk niet zo. Ik had wel degelijk met hen te doen. Maar die actie keurde ik af.  Terwijl de Molukse gemeenschap de neiging heeft alles wat er ondernomen wordt, goed te praten. Blindelings solidair te zijn, die eigenschap heb ik niet. Die jongens hebben zich opgeofferd op een verkeerde manier.\" Elias Rinsampessy, thans directeur van de Molukse welzijnsstichting Muhabbat, onderhield destijds nauw contact met de treinkapers en de geradicaliseerde Molukse jongeren. Hij noemt het nog steeds een blunder van Manusama dat hij destijds verklaarde: \"Dat zijn mijn jongens niet\". Rinsampessy spreekt desondanks waardering uit voor de figuur Manusama. Hij vergelijkt hem met \\'de populist\\' dominee Metiary, de voorzitter van de eenheidspartij Badan Persatuan, die hij vanwege zijn bezielende optreden beschouwt als de eigenlijke leider van de Molukse gemeenschap. Manusama is volgens Rinsampessy \"meer een intellectueel leider, een formele persoonlijkheid, niet zozeer een man onder het volk, maar desondanks iemand die veel respect genoot, ook onder de gewone Molukkers. Je kunt het met Manusama oneens zijn, maar hij zette altijd duidelijk de lijnen uit.\" Frans Tutuhatunewa, de huisarts die Manusama in 1993 is opgevolgd, zegt met het overlijden van zijn voorganger \\'een vaderfiguur\\' te hebben verloren. \"Hij was mijn raadsman, mijn allereerste adviseur. Ik hoop het heilig inzicht te hebben waarover hij beschikte.\" Tutuhatunewa zei in een interview met De Gelderlander twee jaar geleden: \"Wij Zuidmolukkers kunnen niet anders dan naar de RMS streven. Je weet dat je daar vandaan komt en daar thuishoort. Het is een diep geloof dat in je ziel is gebrand.\" Volgens hem heeft Manusama aan dat besef \\'niet een klein steentje, maar een heel grote kei bijgedragen\\'.                          Copyright 1995 De Gelderlander', 'ROTTERDAM - Johan Alvarez Manusama (roepnaam: Joop) werd in 1910 geboren op Borneo, maar groeide op in Batavia op Java. Zijn vader was een Ambonese architect. Na zijn studie aan de Technische Hogeschool in Bandoeng zette hij in juni 1947 op 37-jarige leeftijd voor het eerst voet op Ambonese bodem. Na het uitroepen van de Republik Moluku Selatan werd Manusama door president Soumokil op reis gestuurd om de Molukse zaak internationaal onder de aandacht te brengen. Op het moment dat hij een VN-delegatie op Nieuw-Guinea wilde inlichten, begon Indonesie aan de blokkade van Ambon en kon de ingenieur niet meer terug. Hij koos voor politiek asiel in Nederland. Toen hij op 11 september 1953 aankwam op Schiphol, werd de Nederlandlievende Manusama behandeld als een staatsgevaarlijke terrorist. Hij kreeg een spreekverbod opgelegd. Hij werd bedreigd met verbanning naar Texel als hij dat zou verbreken. Vier jaar na de souvereiniteitsoverdracht wilde Nederland de vingers niet meer branden aan de inmiddels interne Indonesische kwestie. Ook moest verzet tegen de Nederlandse overheid worden voorkomen. In april 1966, toen hij alweer drie jaar de kost verdiende als wiskundeleraar, konden 26.000 Molukkers Manusama niettemin inhuldigen als president van de door Nederland nooit erkende RMS. Dat gebeurde in Assen, waar een flinke Molukse gemeenschap is. Het zou ook in het hoge Noorden zijn, waar de president jaren later de ogen van de wereld op zich gericht wist. Â\\xa0 Doodongelukkig In 1975 kaapten radicale Molukse jongeren een trein bij Wijster, uit onvrede over de rol van Nederland in de kwestie. Manusama was er doodongelukkig mee. Hij wilde met de jongens praten, maar zij niet met hem. Later moest Manusama toezien hoe nog een trein, bij De Punt, en een kleuterklasje in Bovensmilde werden gegijzeld. Tegenover het ANP verklaarde hij ooit dat die acties niet zo zeer tegen Nederland waren gericht, maar tegen hemzelf als leider. Hij zou te weinig van Nederland gedaan hebben gekregen. In Het Parool vertelde Manusama later: \"Die gijzeling heeft me bijna mijn positie als staatshoofd gekost. Na de actie werd er in Moordrecht een congres georganiseerd. Men nam mij daar mijn houding ten aanzien van de gijzeling bijzonder kwalijk. Dat ik in wezen onze eigen jongens had laten vallen. Dat was natuurlijk niet zo, ik had wel degelijk met ze te doen. Maar die actie keurde ik af. Terwijl de Molukse gemeenschap de neiging heeft alles wat er ondernomen wordt, goed te praten. Blindelings solidair te zijn. Die eigenschap heb ik niet. Die jongens hebben zich opgeofferd op een verkeerde manier\". Â\\xa0 Ideaal Manusama dacht dat de tweede generatie het felst was doordat hun ouders hun plaats niet hebben kunnen vinden. De derde generatie is rustiger, maar volgens Manusama leeft ook bij hen het ideaal. Daarvan is zijn opvolger, Tutuhatunewa, ook overtuigd. De nieuwe president van de RMS vindt de dood van Manusama \"een verlies voor het Molukse volk en voor mij persoonlijk het verlies van een figuur die me altijd bijstond, tot zeer recent. Het zal niet gemakkelijk zijn zonder hem, maar hij heeft me goed voorbereid.\" De Nederlandse regering heeft met droefenis kennis genomen van het overlijden van Manusama. Met zijn heengaan is aan de Molukse gemeenschap in Nederland een markante persoonlijkheid ontvallen, aldus de Rijksvoorlichtingsdienst. Het kabinet betuigt zijn \"respect voor de wijze waarop de heer Manusama gedurende vele jaren de gevoelens van de Molukse gemeenschap heeft vertolkt\". \"Soldaat van Oranje\" Erik Hazelhoff Roelfzema, een vriend van de Molukkers en van Manusama persoonlijk, reageerde gisterochtend geschokt. \"Ik trek me zijn dood erg aan. Voor mij is dit het einde van een lange en goede vriendschap. Ik heb altijd het grootste respect voor Manusama gehad. Hij is een legendarische figuur in de geschiedenis van de Zuid-Molukken, van de uitroeping van de RMS tot in recente tijd. Hij is een lichtend voorbeeld geweest voor drie generaties van Zuid-Molukkers, als leider in de strijd om de onafhankelijkheid en later toen hij de Ambonezen hielp hun standpunt te bepalen tijdens hun gedwongen verblijf in Nederland. Manusama was een gentlemen van de fijnste soort, een vaderlandse held en en een trouw vriend van Nederland.\"                        Copyright 1995 Eindhovens Dagblad']\n"
     ]
    }
   ],
   "source": [
    "# Extract the bodies of the documents.\n",
    "bodies = []\n",
    "for document in documents:\n",
    "    documentSplit = document.split('\\n')\n",
    "    documentSplit = list(filter(None, documentSplit))\n",
    "\n",
    "     # Find the part that says 'LENGTH:', because...\n",
    "    lengthItem = next((s for s in documentSplit if 'LENGTH:' in s), None)\n",
    "    lengthIndex = documentSplit.index(lengthItem)\n",
    "    # ...the text is stored in the strings one after the one that says 'LENGTH: xxx woorden'\n",
    "    text = ' '.join(documentSplit[lengthIndex+1:])\n",
    "    bodies.append(text)\n",
    "    \n",
    "print(\"The first five bodies are:\\n{}\".format(bodies[:5]))"
   ]
  },
  {
   "cell_type": "markdown",
   "metadata": {},
   "source": [
    "### Finding the distribution dates"
   ]
  },
  {
   "cell_type": "code",
   "execution_count": 43,
   "metadata": {
    "collapsed": false
   },
   "outputs": [
    {
     "name": "stdout",
     "output_type": "stream",
     "text": [
      "Final date regular expression:\n",
      "(\\d\\d* March \\d\\d\\d\\d|March \\d\\d* \\d\\d\\d\\d|\\d\\d* March, \\d\\d\\d\\d|March \\d\\d*, \\d\\d\\d\\d|\\d\\d* April \\d\\d\\d\\d|April \\d\\d* \\d\\d\\d\\d|\\d\\d* April, \\d\\d\\d\\d|April \\d\\d*, \\d\\d\\d\\d|\\d\\d* July \\d\\d\\d\\d|July \\d\\d* \\d\\d\\d\\d|\\d\\d* July, \\d\\d\\d\\d|July \\d\\d*, \\d\\d\\d\\d|\\d\\d* januari \\d\\d\\d\\d|januari \\d\\d* \\d\\d\\d\\d|\\d\\d* januari, \\d\\d\\d\\d|januari \\d\\d*, \\d\\d\\d\\d|\\d\\d* Mei \\d\\d\\d\\d|Mei \\d\\d* \\d\\d\\d\\d|\\d\\d* Mei, \\d\\d\\d\\d|Mei \\d\\d*, \\d\\d\\d\\d|\\d\\d* maart \\d\\d\\d\\d|maart \\d\\d* \\d\\d\\d\\d|\\d\\d* maart, \\d\\d\\d\\d|maart \\d\\d*, \\d\\d\\d\\d|\\d\\d* September \\d\\d\\d\\d|September \\d\\d* \\d\\d\\d\\d|\\d\\d* September, \\d\\d\\d\\d|September \\d\\d*, \\d\\d\\d\\d|\\d\\d* January \\d\\d\\d\\d|January \\d\\d* \\d\\d\\d\\d|\\d\\d* January, \\d\\d\\d\\d|January \\d\\d*, \\d\\d\\d\\d|\\d\\d* Oktober \\d\\d\\d\\d|Oktober \\d\\d* \\d\\d\\d\\d|\\d\\d* Oktober, \\d\\d\\d\\d|Oktober \\d\\d*, \\d\\d\\d\\d|\\d\\d* August \\d\\d\\d\\d|August \\d\\d* \\d\\d\\d\\d|\\d\\d* August, \\d\\d\\d\\d|August \\d\\d*, \\d\\d\\d\\d|\\d\\d* augustus \\d\\d\\d\\d|augustus \\d\\d* \\d\\d\\d\\d|\\d\\d* augustus, \\d\\d\\d\\d|augustus \\d\\d*, \\d\\d\\d\\d|\\d\\d* November \\d\\d\\d\\d|November \\d\\d* \\d\\d\\d\\d|\\d\\d* November, \\d\\d\\d\\d|November \\d\\d*, \\d\\d\\d\\d|\\d\\d* juli \\d\\d\\d\\d|juli \\d\\d* \\d\\d\\d\\d|\\d\\d* juli, \\d\\d\\d\\d|juli \\d\\d*, \\d\\d\\d\\d|\\d\\d* Januari \\d\\d\\d\\d|Januari \\d\\d* \\d\\d\\d\\d|\\d\\d* Januari, \\d\\d\\d\\d|Januari \\d\\d*, \\d\\d\\d\\d|\\d\\d* October \\d\\d\\d\\d|October \\d\\d* \\d\\d\\d\\d|\\d\\d* October, \\d\\d\\d\\d|October \\d\\d*, \\d\\d\\d\\d|\\d\\d* december \\d\\d\\d\\d|december \\d\\d* \\d\\d\\d\\d|\\d\\d* december, \\d\\d\\d\\d|december \\d\\d*, \\d\\d\\d\\d|\\d\\d* Augustus \\d\\d\\d\\d|Augustus \\d\\d* \\d\\d\\d\\d|\\d\\d* Augustus, \\d\\d\\d\\d|Augustus \\d\\d*, \\d\\d\\d\\d|\\d\\d* october \\d\\d\\d\\d|october \\d\\d* \\d\\d\\d\\d|\\d\\d* october, \\d\\d\\d\\d|october \\d\\d*, \\d\\d\\d\\d|\\d\\d* Juli \\d\\d\\d\\d|Juli \\d\\d* \\d\\d\\d\\d|\\d\\d* Juli, \\d\\d\\d\\d|Juli \\d\\d*, \\d\\d\\d\\d|\\d\\d* May \\d\\d\\d\\d|May \\d\\d* \\d\\d\\d\\d|\\d\\d* May, \\d\\d\\d\\d|May \\d\\d*, \\d\\d\\d\\d|\\d\\d* December \\d\\d\\d\\d|December \\d\\d* \\d\\d\\d\\d|\\d\\d* December, \\d\\d\\d\\d|December \\d\\d*, \\d\\d\\d\\d|\\d\\d* June \\d\\d\\d\\d|June \\d\\d* \\d\\d\\d\\d|\\d\\d* June, \\d\\d\\d\\d|June \\d\\d*, \\d\\d\\d\\d|\\d\\d* april \\d\\d\\d\\d|april \\d\\d* \\d\\d\\d\\d|\\d\\d* april, \\d\\d\\d\\d|april \\d\\d*, \\d\\d\\d\\d|\\d\\d* may \\d\\d\\d\\d|may \\d\\d* \\d\\d\\d\\d|\\d\\d* may, \\d\\d\\d\\d|may \\d\\d*, \\d\\d\\d\\d|\\d\\d* february \\d\\d\\d\\d|february \\d\\d* \\d\\d\\d\\d|\\d\\d* february, \\d\\d\\d\\d|february \\d\\d*, \\d\\d\\d\\d|\\d\\d* june \\d\\d\\d\\d|june \\d\\d* \\d\\d\\d\\d|\\d\\d* june, \\d\\d\\d\\d|june \\d\\d*, \\d\\d\\d\\d|\\d\\d* juni \\d\\d\\d\\d|juni \\d\\d* \\d\\d\\d\\d|\\d\\d* juni, \\d\\d\\d\\d|juni \\d\\d*, \\d\\d\\d\\d|\\d\\d* Juni \\d\\d\\d\\d|Juni \\d\\d* \\d\\d\\d\\d|\\d\\d* Juni, \\d\\d\\d\\d|Juni \\d\\d*, \\d\\d\\d\\d|\\d\\d* February \\d\\d\\d\\d|February \\d\\d* \\d\\d\\d\\d|\\d\\d* February, \\d\\d\\d\\d|February \\d\\d*, \\d\\d\\d\\d|\\d\\d* mei \\d\\d\\d\\d|mei \\d\\d* \\d\\d\\d\\d|\\d\\d* mei, \\d\\d\\d\\d|mei \\d\\d*, \\d\\d\\d\\d|\\d\\d* august \\d\\d\\d\\d|august \\d\\d* \\d\\d\\d\\d|\\d\\d* august, \\d\\d\\d\\d|august \\d\\d*, \\d\\d\\d\\d|\\d\\d* Maart \\d\\d\\d\\d|Maart \\d\\d* \\d\\d\\d\\d|\\d\\d* Maart, \\d\\d\\d\\d|Maart \\d\\d*, \\d\\d\\d\\d|\\d\\d* november \\d\\d\\d\\d|november \\d\\d* \\d\\d\\d\\d|\\d\\d* november, \\d\\d\\d\\d|november \\d\\d*, \\d\\d\\d\\d|\\d\\d* march \\d\\d\\d\\d|march \\d\\d* \\d\\d\\d\\d|\\d\\d* march, \\d\\d\\d\\d|march \\d\\d*, \\d\\d\\d\\d|\\d\\d* september \\d\\d\\d\\d|september \\d\\d* \\d\\d\\d\\d|\\d\\d* september, \\d\\d\\d\\d|september \\d\\d*, \\d\\d\\d\\d|\\d\\d* january \\d\\d\\d\\d|january \\d\\d* \\d\\d\\d\\d|\\d\\d* january, \\d\\d\\d\\d|january \\d\\d*, \\d\\d\\d\\d|\\d\\d* Februari \\d\\d\\d\\d|Februari \\d\\d* \\d\\d\\d\\d|\\d\\d* Februari, \\d\\d\\d\\d|Februari \\d\\d*, \\d\\d\\d\\d|\\d\\d* februari \\d\\d\\d\\d|februari \\d\\d* \\d\\d\\d\\d|\\d\\d* februari, \\d\\d\\d\\d|februari \\d\\d*, \\d\\d\\d\\d|\\d\\d* july \\d\\d\\d\\d|july \\d\\d* \\d\\d\\d\\d|\\d\\d* july, \\d\\d\\d\\d|july \\d\\d*, \\d\\d\\d\\d|\\d\\d* oktober \\d\\d\\d\\d|oktober \\d\\d* \\d\\d\\d\\d|\\d\\d* oktober, \\d\\d\\d\\d|oktober \\d\\d*, \\d\\d\\d\\d)\n"
     ]
    }
   ],
   "source": [
    "# Create lists of all possible months to check for.\n",
    "MONTHS_DUTCH = [\"januari\", \"februari\", \"maart\", \"april\", \"mei\", \"juni\", \"juli\", \"augustus\", \"september\", \"oktober\", \"november\", \"december\"]\n",
    "MONTHS_ENGLISH = [\"january\", \"february\", \"march\", \"april\", \"may\", \"june\", \"july\", \"august\", \"september\", \"october\", \"november\", \"december\"]\n",
    "# Also create the capitalised versions of these months.\n",
    "MONTHS_DUTCH_CAPITAL = [month.capitalize() for month in MONTHS_DUTCH]\n",
    "MONTHS_ENGLISH_CAPITAL = [month.capitalize() for month in MONTHS_ENGLISH]\n",
    "\n",
    "# The possible months are all the months defined above.\n",
    "# Note that MONTHS_DUTCH and MONTHS_ENGLISH_CAPITAL should suffice,\n",
    "# but this isn't that much work and catches any human errors.\n",
    "# Turning into a 'set' first means that all copies will be reduced to simply one:\n",
    "#     [\"april\", \"april\", \"mei\", \"may\"] -> [\"april\", \"mei\", \"may\"]\n",
    "MONTHS = list(set(MONTHS_DUTCH + MONTHS_DUTCH_CAPITAL + MONTHS_ENGLISH + MONTHS_ENGLISH_CAPITAL))\n",
    "\n",
    "# Add a regular subexpression for each month to the general regular expression.\n",
    "# The final regular expression will match all kinds of variations using all months\n",
    "# in different positions.\n",
    "reMonth = []\n",
    "for month in MONTHS:\n",
    "    # Expression for dd mm yyyy\n",
    "    reMonth.append(r\"\\d\\d* {} \\d\\d\\d\\d\".format(month))\n",
    "    # Expression for mm dd yyyy\n",
    "    reMonth.append(r\"{} \\d\\d* \\d\\d\\d\\d\".format(month))\n",
    "    # Expression for dd mm, yyyy\n",
    "    reMonth.append(r\"\\d\\d* {}, \\d\\d\\d\\d\".format(month))\n",
    "    # Expression for mm dd, yyyy\n",
    "    reMonth.append(r\"{} \\d\\d*, \\d\\d\\d\\d\".format(month))\n",
    "dateExpression = \"(\" + '|'.join(reMonth) + \")\"\n",
    "\n",
    "print(\"Final date regular expression:\\n{}\".format(dateExpression))"
   ]
  },
  {
   "cell_type": "code",
   "execution_count": 44,
   "metadata": {
    "collapsed": false
   },
   "outputs": [
    {
     "name": "stdout",
     "output_type": "stream",
     "text": [
      "The first five distribution dates are:\n",
      "['December 30, 1995', 'December 30, 1995', 'December 30, 1995', 'December 30, 1995', 'December 30, 1995']\n"
     ]
    }
   ],
   "source": [
    "distributionDates = []\n",
    "for document in documents:\n",
    "    allDates = re.findall(dateExpression, document)\n",
    "    # Select the first date in the article and assume it is the distribution date.\n",
    "    # This is usually correct, as the documents start with a title and date.\n",
    "    try:\n",
    "        distributionDate = allDates[0]\n",
    "    except IndexError:\n",
    "        distributionDate = \"\"\n",
    "    distributionDates.append(distributionDate)\n",
    "\n",
    "print(\"The first five distribution dates are:\\n{}\".format(distributionDates[:5]))"
   ]
  },
  {
   "cell_type": "markdown",
   "metadata": {},
   "source": [
    "### Creating and saving the aggregated documents"
   ]
  },
  {
   "cell_type": "code",
   "execution_count": 45,
   "metadata": {
    "collapsed": false
   },
   "outputs": [],
   "source": [
    "# Create document objects for each document (for easier access to title, body and date).\n",
    "documents = [Document(titles[documents.index(document)], createDate(distributionDates[documents.index(document)]), bodies[documents.index(document)]) for document in documents]\n",
    "# Remove documents with an invalid date, these cannot be labelled properly.\n",
    "documents = [document for document in documents if document.date.isValid()]"
   ]
  },
  {
   "cell_type": "code",
   "execution_count": 46,
   "metadata": {
    "collapsed": true
   },
   "outputs": [],
   "source": [
    "# Create a new folder for the per_year data.\n",
    "perYearRoot = 'per_year'\n",
    "if not os.path.exists(perYearRoot):\n",
    "    os.makedirs(perYearRoot)\n",
    "\n",
    "# Use the documents' dates to create yearly documents containing the title and\n",
    "# body of each article.\n",
    "# If the file of a year already exists, simply append to this document, thereby\n",
    "# aggregating the documents by year.\n",
    "for document in documents:\n",
    "    with open(\"{}/{}.txt\".format(perYearRoot, document.date.year), \"a+\") as outputFile:\n",
    "        outputFile.write(document.title + \"\\n\\n\")\n",
    "        outputFile.write(document.body + \"\\n\\n\\n\")"
   ]
  },
  {
   "cell_type": "markdown",
   "metadata": {},
   "source": [
    "We are done with preprocessing.\n",
    "\n",
    "The `documents` and `per_year` folder now contain documents that can be processed with for example NLTK.\n",
    "\n",
    "See `NLTK-Example.ipynb`."
   ]
  }
 ],
 "metadata": {
  "kernelspec": {
   "display_name": "Python 3",
   "language": "python",
   "name": "python3"
  },
  "language_info": {
   "codemirror_mode": {
    "name": "ipython",
    "version": 3
   },
   "file_extension": ".py",
   "mimetype": "text/x-python",
   "name": "python",
   "nbconvert_exporter": "python",
   "pygments_lexer": "ipython3",
   "version": "3.6.0"
  }
 },
 "nbformat": 4,
 "nbformat_minor": 1
}
