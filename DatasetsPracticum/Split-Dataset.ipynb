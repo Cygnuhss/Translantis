{
 "cells": [
  {
   "cell_type": "code",
   "execution_count": null,
   "metadata": {
    "collapsed": true
   },
   "outputs": [],
   "source": [
    "# Some initialisation code.\n",
    "import os\n",
    "import sys\n",
    "import re\n",
    "\n",
    "DOCUMENTS_FOLDER = \"./documents\"\n",
    "\n",
    "class Date:\n",
    "    def __init__(self, day, month, year):\n",
    "        self.day = day\n",
    "        self.month = month\n",
    "        self.year = year\n",
    "\n",
    "    def __repr__(self):\n",
    "        return \"{} {} {}\".format(self.day, self.month, self.year)\n",
    "\n",
    "    def isValid(self):\n",
    "        return self.day != -1 and self.month != -1 and self.year != -1\n",
    "\n",
    "class Document:\n",
    "    def __init__(self, title, date, body):\n",
    "        self.title = title\n",
    "        self.date = date\n",
    "        self.body = body\n",
    "\n",
    "    def __repr__(self):\n",
    "        MAX_LENGTH = 100\n",
    "        body = self.body if len(self.body) < MAX_LENGTH else self.body[:MAX_LENGTH]\n",
    "        return \"{}, {}: {}\".format(self.title, self.date, body)"
   ]
  },
  {
   "cell_type": "markdown",
   "metadata": {},
   "source": [
    "**The interesting code starts below.**"
   ]
  },
  {
   "cell_type": "markdown",
   "metadata": {},
   "source": [
    "## Split dataset in individual documents"
   ]
  },
  {
   "cell_type": "code",
   "execution_count": null,
   "metadata": {
    "collapsed": false
   },
   "outputs": [],
   "source": [
    "# Read the downloaded dataset file and store in variable 'lines'.\n",
    "lines = []\n",
    "with open('dataset.txt', 'r') as f:\n",
    "    lines = f.read()\n",
    "    \n",
    "print(\"First 500 characters of the data:\\n{}\".format(lines[:500]))"
   ]
  },
  {
   "cell_type": "code",
   "execution_count": null,
   "metadata": {
    "collapsed": true
   },
   "outputs": [],
   "source": [
    "# newDocumentExpression matches text of the form: \"123 of 200 DOCUMENTS\".\n",
    "# \\d matches digits [0-9].\n",
    "# For more regular expressions, see RegularExpressions-Example.ipynb\n",
    "newDocumentExpression = r\"\\b\\d+\\b of \\b\\d+\\b DOCUMENTS\""
   ]
  },
  {
   "cell_type": "code",
   "execution_count": null,
   "metadata": {
    "collapsed": false
   },
   "outputs": [],
   "source": [
    "# Split the document in several documents based on the newDocumentExpression.\n",
    "# Skip the first element (index 0) as it contains all text BEFORE the first document.\n",
    "# Example:\n",
    "#     Text before Article\n",
    "#     1 of 200 DOCUMENTS\n",
    "#     Title of Article\n",
    "#     Body of Article\n",
    "documents = re.split(newDocumentExpression, lines)[1:]"
   ]
  },
  {
   "cell_type": "code",
   "execution_count": null,
   "metadata": {
    "collapsed": false
   },
   "outputs": [],
   "source": [
    "# Check if all documents are found.\n",
    "# The length (amount) of list of documents should equal the amount of documents.\n",
    "print(\"The amount of documents found is: {}\".format(len(documents)))"
   ]
  },
  {
   "cell_type": "code",
   "execution_count": null,
   "metadata": {
    "collapsed": true
   },
   "outputs": [],
   "source": [
    "# Remove the leading/trailing whitespace from the documents.\n",
    "documents = [document.strip() for document in documents]"
   ]
  },
  {
   "cell_type": "markdown",
   "metadata": {},
   "source": [
    "### Saving the individual documents"
   ]
  },
  {
   "cell_type": "code",
   "execution_count": null,
   "metadata": {
    "collapsed": true
   },
   "outputs": [],
   "source": [
    "# Create the folder where individual documents are stored.\n",
    "if not os.path.exists(DOCUMENTS_FOLDER):\n",
    "    os.makedirs(DOCUMENTS_FOLDER)"
   ]
  },
  {
   "cell_type": "code",
   "execution_count": null,
   "metadata": {
    "collapsed": true
   },
   "outputs": [],
   "source": [
    "# Write the documents to individual files as '[number].txt'\n",
    "for document in documents:\n",
    "    index = documents.index(document) + 1\n",
    "    with open('{}/{}.txt'.format(DOCUMENTS_FOLDER, index), 'w+') as writeFile:\n",
    "        writeFile.write(document)"
   ]
  },
  {
   "cell_type": "markdown",
   "metadata": {},
   "source": [
    "## Aggregating the documents per year"
   ]
  },
  {
   "cell_type": "code",
   "execution_count": null,
   "metadata": {
    "collapsed": false
   },
   "outputs": [],
   "source": [
    "# Extract the titles of the documents.\n",
    "titles = []\n",
    "for document in documents:\n",
    "    documentSplit = document.split('\\n')\n",
    "    documentSplit = list(filter(None, documentSplit))\n",
    "\n",
    "    lengthItem = next((s for s in documentSplit if 'LENGTH:' in s), None)\n",
    "    lengthIndex = documentSplit.index(lengthItem)\n",
    "    # The text is stored in the string one before the one that says LENGTH: xxx woorden\n",
    "    title = documentSplit[lengthIndex-1]\n",
    "    titles.append(title)\n",
    "    \n",
    "print(\"The first five titles are:\\n{}\".format(titles[:5]))"
   ]
  },
  {
   "cell_type": "code",
   "execution_count": null,
   "metadata": {
    "collapsed": false
   },
   "outputs": [],
   "source": [
    "# Extract the bodies of the documents.\n",
    "bodies = []\n",
    "for document in documents:\n",
    "    documentSplit = document.split('\\n')\n",
    "    documentSplit = list(filter(None, documentSplit))\n",
    "\n",
    "    lengthItem = next((s for s in documentSplit if 'LENGTH:' in s), None)\n",
    "    lengthIndex = documentSplit.index(lengthItem)\n",
    "    # The text is stored in the strings one after the one that says LENGTH: xxx woorden\n",
    "    text = ' '.join(documentSplit[lengthIndex+1:])\n",
    "    bodies.append(text)\n",
    "    \n",
    "print(\"The first five bodies are:\\n{}\".format(bodies[:5]))"
   ]
  },
  {
   "cell_type": "markdown",
   "metadata": {},
   "source": [
    "### Finding the distribution dates"
   ]
  },
  {
   "cell_type": "code",
   "execution_count": null,
   "metadata": {
    "collapsed": false
   },
   "outputs": [],
   "source": [
    "# Create lists of all possible months to check for.\n",
    "MONTHS_DUTCH = [\"januari\", \"februari\", \"maart\", \"april\", \"mei\", \"juni\", \"juli\", \"augustus\", \"september\", \"oktober\", \"november\", \"december\"]\n",
    "MONTHS_ENGLISH = [\"january\", \"february\", \"march\", \"april\", \"may\", \"june\", \"july\", \"august\", \"september\", \"october\", \"november\", \"december\"]\n",
    "MONTHS_DUTCH_CAPITAL = [month.capitalize() for month in MONTHS_DUTCH]\n",
    "MONTHS_ENGLISH_CAPITAL = [month.capitalize() for month in MONTHS_ENGLISH]\n",
    "\n",
    "MONTHS = list(set(MONTHS_DUTCH + MONTHS_DUTCH_CAPITAL + MONTHS_ENGLISH + MONTHS_ENGLISH_CAPITAL))\n",
    "\n",
    "# Add a regular subexpression for each month to the general regular expression.\n",
    "reMonth = []\n",
    "for month in MONTHS:\n",
    "    # Expression for dd-mm-yyyy\n",
    "    reMonth.append(r\"\\d\\d* {} \\d\\d\\d\\d\".format(month))\n",
    "    # Expression for mm-dd-yyyy\n",
    "    reMonth.append(r\"{} \\d\\d* \\d\\d\\d\\d\".format(month))\n",
    "dateExpression = \"(\" + '|'.join(reMonth) + \")\"\n",
    "\n",
    "print(\"Final date regular expression:\\n{}\".format(dateExpression))"
   ]
  },
  {
   "cell_type": "code",
   "execution_count": null,
   "metadata": {
    "collapsed": false
   },
   "outputs": [],
   "source": [
    "distributionDates = []\n",
    "for document in documents:\n",
    "    allDates = re.findall(dateExpression, document)\n",
    "    # Select the first date in the article and assume it is the distribution date.\n",
    "    try:\n",
    "        distributionDate = allDates[0]\n",
    "    except IndexError:\n",
    "        distributionDate = \"\"\n",
    "    distributionDates.append(distributionDate)\n",
    "\n",
    "print(\"The first five distribution dates are:\\n{}\".format(distributionDates[:5]))"
   ]
  },
  {
   "cell_type": "code",
   "execution_count": null,
   "metadata": {
    "collapsed": true
   },
   "outputs": [],
   "source": [
    "def createDate(dateString):\n",
    "    \"\"\"A dateString is of the following format:\n",
    "        dd month yyyy\n",
    "    Return a Date that has a selectable day, month and year.\n",
    "    \"\"\"\n",
    "    try:\n",
    "        dateStringSplit = dateString.split(\" \")\n",
    "        return Date(dateStringSplit[0], dateStringSplit[1], dateStringSplit[2])\n",
    "    except IndexError:\n",
    "        return Date(-1, -1, -1)"
   ]
  },
  {
   "cell_type": "markdown",
   "metadata": {},
   "source": [
    "### Creating and saving the aggregated documents"
   ]
  },
  {
   "cell_type": "code",
   "execution_count": null,
   "metadata": {
    "collapsed": true
   },
   "outputs": [],
   "source": [
    "documents = [Document(titles[documents.index(document)], createDate(distributionDates[documents.index(document)]), bodies[documents.index(document)]) for document in documents]\n",
    "# Remove documents with an invalid date, these cannot be labelled properly.\n",
    "documents = [document for document in documents if document.date.isValid()]"
   ]
  },
  {
   "cell_type": "code",
   "execution_count": null,
   "metadata": {
    "collapsed": true
   },
   "outputs": [],
   "source": [
    "perYearRoot = 'per_year'\n",
    "if not os.path.exists(perYearRoot):\n",
    "    os.makedirs(perYearRoot)\n",
    "\n",
    "# Use the documents' date to create yearly documents containing the title and\n",
    "# body of each article.\n",
    "for document in documents:\n",
    "    with open(\"{}/{}.txt\".format(perYearRoot, document.date.year), \"a+\") as outputFile:\n",
    "        outputFile.write(document.title + \"\\n\\n\")\n",
    "        outputFile.write(document.body + \"\\n\\n\\n\")"
   ]
  },
  {
   "cell_type": "markdown",
   "metadata": {},
   "source": [
    "We are done with preprocessing.\n",
    "\n",
    "The `documents` and `per_year` folder now contain documents that can be processed with for example NLTK."
   ]
  }
 ],
 "metadata": {
  "kernelspec": {
   "display_name": "Python [default]",
   "language": "python",
   "name": "python3"
  },
  "language_info": {
   "codemirror_mode": {
    "name": "ipython",
    "version": 3
   },
   "file_extension": ".py",
   "mimetype": "text/x-python",
   "name": "python",
   "nbconvert_exporter": "python",
   "pygments_lexer": "ipython3",
   "version": "3.5.2"
  }
 },
 "nbformat": 4,
 "nbformat_minor": 1
}
