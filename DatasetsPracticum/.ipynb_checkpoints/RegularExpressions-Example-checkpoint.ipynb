{
 "cells": [
  {
   "cell_type": "markdown",
   "metadata": {},
   "source": [
    "Information on how to use regular expressions with Python:\n",
    "https://www.debuggex.com/cheatsheet/regex/python\n",
    "\n",
    "Visual aids (which strings match an expression?) provided here:\n",
    "http://regexr.com/"
   ]
  },
  {
   "cell_type": "markdown",
   "metadata": {},
   "source": [
    "# New Document Starts"
   ]
  },
  {
   "cell_type": "markdown",
   "metadata": {},
   "source": [
    "**Step 1:**\n",
    "Recognise that each document starts with a structured line such as:\n",
    "\n",
    "`54 of 200 DOCUMENTS`\n",
    "\n",
    "Create a matching expression:"
   ]
  },
  {
   "cell_type": "code",
   "execution_count": null,
   "metadata": {
    "collapsed": true
   },
   "outputs": [],
   "source": [
    "newDocumentExpression = r\"54 of 200 DOCUMENTS\""
   ]
  },
  {
   "cell_type": "markdown",
   "metadata": {},
   "source": [
    "**Step 2:** Generalise the changing patterns:\n",
    "\n",
    "`[2-digit number] of [3-digit number] DOCUMENTS`"
   ]
  },
  {
   "cell_type": "code",
   "execution_count": null,
   "metadata": {
    "collapsed": true
   },
   "outputs": [],
   "source": [
    "newDocumentExpression = r\"\\d\\d of \\d\\d\\d DOCUMENTS\""
   ]
  },
  {
   "cell_type": "markdown",
   "metadata": {},
   "source": [
    "**Step 3:** Generalise underlying structure of the patterns:\n",
    "\n",
    "`[number] of [maximum_number] DOCUMENTS`\n",
    "\n",
    "Where `number` and `maximum_number` are both sequences of at least 1 digit."
   ]
  },
  {
   "cell_type": "code",
   "execution_count": null,
   "metadata": {
    "collapsed": true
   },
   "outputs": [],
   "source": [
    "newDocumentExpression = r\"\\d+ of \\d+ DOCUMENTS\""
   ]
  },
  {
   "cell_type": "markdown",
   "metadata": {},
   "source": [
    "**Step 4:**\n",
    "Remove any remaining faults:\n",
    "\n",
    "The above expression will match:\n",
    "\n",
    "`54 of 200 DOCUMENTS`\n",
    "\n",
    "But also:\n",
    "\n",
    "`4 of 200 DOCUMENTS`\n",
    "\n",
    "Word boundaries are needed to disallow parts of numbers.\n",
    "\n",
    "Only digit sequences preceded and followed by a word boundary (comma, dot, space, etc) are included."
   ]
  },
  {
   "cell_type": "code",
   "execution_count": null,
   "metadata": {
    "collapsed": true
   },
   "outputs": [],
   "source": [
    "newDocumentExpression = r\"\\b\\d+\\b of \\b\\d+\\b DOCUMENTS\""
   ]
  },
  {
   "cell_type": "markdown",
   "metadata": {},
   "source": [
    "# Find Date"
   ]
  },
  {
   "cell_type": "markdown",
   "metadata": {},
   "source": [
    "**Step 1:**\n",
    "Recognise that each date has a pattern:\n",
    "\n",
    "`[day] [month] [year]`\n",
    "\n",
    "where\n",
    "* `day` is a 1-digit or 2-digit number,\n",
    "* `month` is a written out version of the month,\n",
    "* `year` is a 4-digit number."
   ]
  },
  {
   "cell_type": "code",
   "execution_count": null,
   "metadata": {
    "collapsed": true
   },
   "outputs": [],
   "source": [
    "dateExpression = r\"\\d\\d* MONTH \\d\\d\\d\\d\"\""
   ]
  },
  {
   "cell_type": "markdown",
   "metadata": {},
   "source": [
    "**Step 2:**\n",
    "Add in months using the OR-operator.\n",
    "\n",
    "Create a regular expression for each month, and combine this into:\n",
    "\n",
    "`(reJanuary|reFebruary|...|reDecember)`"
   ]
  },
  {
   "cell_type": "code",
   "execution_count": null,
   "metadata": {
    "collapsed": true
   },
   "outputs": [],
   "source": [
    "MONTHS = [\"januari\", \"februari\", \"maart\", \"april\", \"mei\", \"juni\", \"juli\", \"augustus\", \"september\", \"oktober\", \"november\", \"december\"]\n",
    "for month in MONTHS:\n",
    "    reMonth.append(r\"\\d\\d* {} \\d\\d\\d\\d\".format(month))\n",
    "dateExpression = \"(\" + '|'.join(reMonth) + \")\""
   ]
  }
 ],
 "metadata": {
  "kernelspec": {
   "display_name": "Python 3",
   "language": "python",
   "name": "python3"
  },
  "language_info": {
   "codemirror_mode": {
    "name": "ipython",
    "version": 3
   },
   "file_extension": ".py",
   "mimetype": "text/x-python",
   "name": "python",
   "nbconvert_exporter": "python",
   "pygments_lexer": "ipython3",
   "version": "3.6.0"
  }
 },
 "nbformat": 4,
 "nbformat_minor": 2
}
